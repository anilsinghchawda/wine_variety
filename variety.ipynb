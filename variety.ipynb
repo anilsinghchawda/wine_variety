{
  "nbformat": 4,
  "nbformat_minor": 0,
  "metadata": {
    "colab": {
      "name": "variety.ipynb",
      "provenance": [],
      "authorship_tag": "ABX9TyNZCGZzfPIWj4Xy6wH3epb+"
    },
    "kernelspec": {
      "name": "python3",
      "display_name": "Python 3"
    }
  },
  "cells": [
    {
      "cell_type": "code",
      "metadata": {
        "id": "sEQKC7YB7SKP",
        "colab_type": "code",
        "colab": {
          "base_uri": "https://localhost:8080/",
          "height": 126
        },
        "outputId": "0174004d-9e6b-494d-f293-82c62a51af06"
      },
      "source": [
        "!git clone https://github.com/anilsinghchawda/data"
      ],
      "execution_count": 8,
      "outputs": [
        {
          "output_type": "stream",
          "text": [
            "Cloning into 'data'...\n",
            "remote: Enumerating objects: 5, done.\u001b[K\n",
            "remote: Counting objects:  20% (1/5)\u001b[K\rremote: Counting objects:  40% (2/5)\u001b[K\rremote: Counting objects:  60% (3/5)\u001b[K\rremote: Counting objects:  80% (4/5)\u001b[K\rremote: Counting objects: 100% (5/5)\u001b[K\rremote: Counting objects: 100% (5/5), done.\u001b[K\n",
            "remote: Compressing objects: 100% (4/4), done.\u001b[K\n",
            "remote: Total 5 (delta 0), reused 5 (delta 0), pack-reused 0\u001b[K\n",
            "Unpacking objects: 100% (5/5), done.\n"
          ],
          "name": "stdout"
        }
      ]
    },
    {
      "cell_type": "code",
      "metadata": {
        "id": "ILB5KVEi7eg3",
        "colab_type": "code",
        "colab": {
          "base_uri": "https://localhost:8080/",
          "height": 35
        },
        "outputId": "75a5a14a-978d-44e9-8d69-1c500f996dda"
      },
      "source": [
        "cd data"
      ],
      "execution_count": 17,
      "outputs": [
        {
          "output_type": "stream",
          "text": [
            "/content/data\n"
          ],
          "name": "stdout"
        }
      ]
    },
    {
      "cell_type": "code",
      "metadata": {
        "id": "swQfcDZb72NW",
        "colab_type": "code",
        "colab": {
          "base_uri": "https://localhost:8080/",
          "height": 35
        },
        "outputId": "ae190d63-f021-431b-cb6b-224ed0a6d76f"
      },
      "source": [
        "cd kn"
      ],
      "execution_count": 18,
      "outputs": [
        {
          "output_type": "stream",
          "text": [
            "/content/data/kn\n"
          ],
          "name": "stdout"
        }
      ]
    },
    {
      "cell_type": "code",
      "metadata": {
        "id": "Fe-GCdIp6Hs3",
        "colab_type": "code",
        "colab": {}
      },
      "source": [
        "import numpy as np\n",
        "import pandas as pd\n",
        "from sklearn import metrics"
      ],
      "execution_count": 0,
      "outputs": []
    },
    {
      "cell_type": "code",
      "metadata": {
        "id": "k9mAtRZP6tQd",
        "colab_type": "code",
        "colab": {
          "base_uri": "https://localhost:8080/",
          "height": 35
        },
        "outputId": "bcd0905c-2bf1-461e-e0c9-b9beeac0b644"
      },
      "source": [
        "import keras\n",
        "from keras import optimizers\n",
        "import tensorflow as tf"
      ],
      "execution_count": 3,
      "outputs": [
        {
          "output_type": "stream",
          "text": [
            "Using TensorFlow backend.\n"
          ],
          "name": "stderr"
        }
      ]
    },
    {
      "cell_type": "code",
      "metadata": {
        "id": "e1RKn2O_61QL",
        "colab_type": "code",
        "colab": {}
      },
      "source": [
        "from keras.utils import np_utils\n",
        "from keras.preprocessing import sequence\n",
        "from keras.preprocessing.text import Tokenizer"
      ],
      "execution_count": 0,
      "outputs": []
    },
    {
      "cell_type": "code",
      "metadata": {
        "id": "bQ9K6onb6qEy",
        "colab_type": "code",
        "colab": {}
      },
      "source": [
        "from sklearn.model_selection import train_test_split\n",
        "from sklearn.feature_extraction.text import CountVectorizer, TfidfVectorizer"
      ],
      "execution_count": 0,
      "outputs": []
    },
    {
      "cell_type": "code",
      "metadata": {
        "id": "Dlmxp61d6qwh",
        "colab_type": "code",
        "colab": {}
      },
      "source": [
        "from keras.models import Model, Sequential\n",
        "from keras.layers import Input, Dense, Embedding, GlobalAveragePooling1D, Activation, Flatten, Dropout, MaxPooling1D, Embedding, GlobalMaxPooling1D\n",
        "\n",
        "from keras.layers.core import Dense, Dropout\n"
      ],
      "execution_count": 0,
      "outputs": []
    },
    {
      "cell_type": "code",
      "metadata": {
        "id": "JbnKjvDd678p",
        "colab_type": "code",
        "colab": {
          "base_uri": "https://localhost:8080/",
          "height": 74
        },
        "outputId": "973d2416-c7df-4788-80ba-1d6f1008bc48"
      },
      "source": [
        "import seaborn as sns\n",
        "import matplotlib.pyplot as plt\n",
        "sns.set_style(\"ticks\")\n",
        "\n",
        "from sklearn.metrics import classification_report, accuracy_score, confusion_matrix\n",
        "\n",
        "import pickle"
      ],
      "execution_count": 6,
      "outputs": [
        {
          "output_type": "stream",
          "text": [
            "/usr/local/lib/python3.6/dist-packages/statsmodels/tools/_testing.py:19: FutureWarning: pandas.util.testing is deprecated. Use the functions in the public API at pandas.testing instead.\n",
            "  import pandas.util.testing as tm\n"
          ],
          "name": "stderr"
        }
      ]
    },
    {
      "cell_type": "code",
      "metadata": {
        "id": "BhyNNtWg6-QA",
        "colab_type": "code",
        "colab": {
          "base_uri": "https://localhost:8080/",
          "height": 72
        },
        "outputId": "9bccda4a-ebd6-4672-9f11-7c30cda43d6c"
      },
      "source": [
        "train = pd.read_csv('train.csv')\n",
        "print(len(train))\n",
        "test = pd.read_csv('test.csv')\n",
        "print(len(test))\n",
        "df_full = pd.concat([train,test])\n",
        "print(len(df_full))"
      ],
      "execution_count": 19,
      "outputs": [
        {
          "output_type": "stream",
          "text": [
            "82657\n",
            "20665\n",
            "103322\n"
          ],
          "name": "stdout"
        }
      ]
    },
    {
      "cell_type": "code",
      "metadata": {
        "id": "ClDMaHA17G0h",
        "colab_type": "code",
        "colab": {
          "base_uri": "https://localhost:8080/",
          "height": 1000
        },
        "outputId": "aa1c803e-8e84-411f-84a0-18f9abb16d40"
      },
      "source": [
        "df_full.head(10)"
      ],
      "execution_count": 21,
      "outputs": [
        {
          "output_type": "execute_result",
          "data": {
            "text/html": [
              "<div>\n",
              "<style scoped>\n",
              "    .dataframe tbody tr th:only-of-type {\n",
              "        vertical-align: middle;\n",
              "    }\n",
              "\n",
              "    .dataframe tbody tr th {\n",
              "        vertical-align: top;\n",
              "    }\n",
              "\n",
              "    .dataframe thead th {\n",
              "        text-align: right;\n",
              "    }\n",
              "</style>\n",
              "<table border=\"1\" class=\"dataframe\">\n",
              "  <thead>\n",
              "    <tr style=\"text-align: right;\">\n",
              "      <th></th>\n",
              "      <th>user_name</th>\n",
              "      <th>country</th>\n",
              "      <th>review_title</th>\n",
              "      <th>review_description</th>\n",
              "      <th>designation</th>\n",
              "      <th>points</th>\n",
              "      <th>price</th>\n",
              "      <th>province</th>\n",
              "      <th>region_1</th>\n",
              "      <th>region_2</th>\n",
              "      <th>winery</th>\n",
              "      <th>variety</th>\n",
              "    </tr>\n",
              "  </thead>\n",
              "  <tbody>\n",
              "    <tr>\n",
              "      <th>0</th>\n",
              "      <td>NaN</td>\n",
              "      <td>Australia</td>\n",
              "      <td>Andrew Peace 2007 Peace Family Vineyard Chardo...</td>\n",
              "      <td>Classic Chardonnay aromas of apple, pear and h...</td>\n",
              "      <td>Peace Family Vineyard</td>\n",
              "      <td>83</td>\n",
              "      <td>10.0</td>\n",
              "      <td>Australia Other</td>\n",
              "      <td>South Eastern Australia</td>\n",
              "      <td>NaN</td>\n",
              "      <td>Andrew Peace</td>\n",
              "      <td>Chardonnay</td>\n",
              "    </tr>\n",
              "    <tr>\n",
              "      <th>1</th>\n",
              "      <td>@wawinereport</td>\n",
              "      <td>US</td>\n",
              "      <td>North by Northwest 2014 Red (Columbia Valley (...</td>\n",
              "      <td>This wine is near equal parts Syrah and Merlot...</td>\n",
              "      <td>NaN</td>\n",
              "      <td>89</td>\n",
              "      <td>15.0</td>\n",
              "      <td>Washington</td>\n",
              "      <td>Columbia Valley (WA)</td>\n",
              "      <td>Columbia Valley</td>\n",
              "      <td>North by Northwest</td>\n",
              "      <td>Red Blend</td>\n",
              "    </tr>\n",
              "    <tr>\n",
              "      <th>2</th>\n",
              "      <td>NaN</td>\n",
              "      <td>Italy</td>\n",
              "      <td>Renato Ratti 2007 Conca  (Barolo)</td>\n",
              "      <td>Barolo Conca opens with inky dark concentratio...</td>\n",
              "      <td>Conca</td>\n",
              "      <td>94</td>\n",
              "      <td>80.0</td>\n",
              "      <td>Piedmont</td>\n",
              "      <td>Barolo</td>\n",
              "      <td>NaN</td>\n",
              "      <td>Renato Ratti</td>\n",
              "      <td>Nebbiolo</td>\n",
              "    </tr>\n",
              "    <tr>\n",
              "      <th>3</th>\n",
              "      <td>@vossroger</td>\n",
              "      <td>France</td>\n",
              "      <td>Domaine l'Ancienne Cure 2010 L'Abbaye White (B...</td>\n",
              "      <td>It's impressive what a small addition of Sauvi...</td>\n",
              "      <td>L'Abbaye</td>\n",
              "      <td>87</td>\n",
              "      <td>22.0</td>\n",
              "      <td>Southwest France</td>\n",
              "      <td>Bergerac Sec</td>\n",
              "      <td>NaN</td>\n",
              "      <td>Domaine l'Ancienne Cure</td>\n",
              "      <td>Bordeaux-style White Blend</td>\n",
              "    </tr>\n",
              "    <tr>\n",
              "      <th>4</th>\n",
              "      <td>@vossroger</td>\n",
              "      <td>France</td>\n",
              "      <td>Château du Cèdre 2012 Le Cèdre Vintage Malbec ...</td>\n",
              "      <td>This ripe, sweet wine is rich and full of drie...</td>\n",
              "      <td>Le Cèdre Vintage</td>\n",
              "      <td>88</td>\n",
              "      <td>33.0</td>\n",
              "      <td>France Other</td>\n",
              "      <td>Vin de Liqueur</td>\n",
              "      <td>NaN</td>\n",
              "      <td>Château du Cèdre</td>\n",
              "      <td>Malbec</td>\n",
              "    </tr>\n",
              "    <tr>\n",
              "      <th>5</th>\n",
              "      <td>@wineschach</td>\n",
              "      <td>Argentina</td>\n",
              "      <td>Andean 2005 Finca La Escondida Reserva Caberne...</td>\n",
              "      <td>Strident aromas of licorice, herbs, berries an...</td>\n",
              "      <td>Finca La Escondida Reserva</td>\n",
              "      <td>85</td>\n",
              "      <td>13.0</td>\n",
              "      <td>Other</td>\n",
              "      <td>San Juan</td>\n",
              "      <td>NaN</td>\n",
              "      <td>Andean</td>\n",
              "      <td>Cabernet Sauvignon</td>\n",
              "    </tr>\n",
              "    <tr>\n",
              "      <th>6</th>\n",
              "      <td>@wawinereport</td>\n",
              "      <td>US</td>\n",
              "      <td>Gordon Estate 2012 Tradition Red (Columbia Val...</td>\n",
              "      <td>Half Syrah and half Cabernet Sauvignon, with 4...</td>\n",
              "      <td>Tradition</td>\n",
              "      <td>91</td>\n",
              "      <td>45.0</td>\n",
              "      <td>Washington</td>\n",
              "      <td>Columbia Valley (WA)</td>\n",
              "      <td>Columbia Valley</td>\n",
              "      <td>Gordon Estate</td>\n",
              "      <td>Red Blend</td>\n",
              "    </tr>\n",
              "    <tr>\n",
              "      <th>7</th>\n",
              "      <td>@vboone</td>\n",
              "      <td>US</td>\n",
              "      <td>Rock Wall 2014 Monte Rosso Reserve Zinfandel (...</td>\n",
              "      <td>High-toned red fruit stars in this wine, a nic...</td>\n",
              "      <td>Monte Rosso Reserve</td>\n",
              "      <td>90</td>\n",
              "      <td>50.0</td>\n",
              "      <td>California</td>\n",
              "      <td>Sonoma County</td>\n",
              "      <td>Sonoma</td>\n",
              "      <td>Rock Wall</td>\n",
              "      <td>Zinfandel</td>\n",
              "    </tr>\n",
              "    <tr>\n",
              "      <th>8</th>\n",
              "      <td>@paulgwine</td>\n",
              "      <td>US</td>\n",
              "      <td>Elizabeth Chambers 2014 Falcon Glen Vineyard P...</td>\n",
              "      <td>Displaying typical McMinnville AVA subtlety, t...</td>\n",
              "      <td>Falcon Glen Vineyard</td>\n",
              "      <td>91</td>\n",
              "      <td>48.0</td>\n",
              "      <td>Oregon</td>\n",
              "      <td>McMinnville</td>\n",
              "      <td>Willamette Valley</td>\n",
              "      <td>Elizabeth Chambers</td>\n",
              "      <td>Pinot Noir</td>\n",
              "    </tr>\n",
              "    <tr>\n",
              "      <th>9</th>\n",
              "      <td>@kerinokeefe</td>\n",
              "      <td>Italy</td>\n",
              "      <td>Mannucci Droandi 2009 Ceppeto Riserva  (Chiant...</td>\n",
              "      <td>This blend of Sangiovese and 10% Merlot opens ...</td>\n",
              "      <td>Ceppeto Riserva</td>\n",
              "      <td>86</td>\n",
              "      <td>31.0</td>\n",
              "      <td>Tuscany</td>\n",
              "      <td>Chianti Classico</td>\n",
              "      <td>NaN</td>\n",
              "      <td>Mannucci Droandi</td>\n",
              "      <td>Red Blend</td>\n",
              "    </tr>\n",
              "  </tbody>\n",
              "</table>\n",
              "</div>"
            ],
            "text/plain": [
              "       user_name  ...                     variety\n",
              "0            NaN  ...                  Chardonnay\n",
              "1  @wawinereport  ...                   Red Blend\n",
              "2            NaN  ...                    Nebbiolo\n",
              "3     @vossroger  ...  Bordeaux-style White Blend\n",
              "4     @vossroger  ...                      Malbec\n",
              "5    @wineschach  ...          Cabernet Sauvignon\n",
              "6  @wawinereport  ...                   Red Blend\n",
              "7        @vboone  ...                   Zinfandel\n",
              "8    @paulgwine   ...                  Pinot Noir\n",
              "9   @kerinokeefe  ...                   Red Blend\n",
              "\n",
              "[10 rows x 12 columns]"
            ]
          },
          "metadata": {
            "tags": []
          },
          "execution_count": 21
        }
      ]
    },
    {
      "cell_type": "code",
      "metadata": {
        "id": "ce43OLfG7-9f",
        "colab_type": "code",
        "colab": {
          "base_uri": "https://localhost:8080/",
          "height": 35
        },
        "outputId": "cdacebe2-d168-47f0-94ac-a11fcf011e74"
      },
      "source": [
        "variety_counts = pd.DataFrame(train['variety'].value_counts())\n",
        "varieties = list(variety_counts.index[variety_counts['variety'] > 500])\n",
        "# total number of distinct varieties\n",
        "len(varieties)"
      ],
      "execution_count": 24,
      "outputs": [
        {
          "output_type": "execute_result",
          "data": {
            "text/plain": [
              "28"
            ]
          },
          "metadata": {
            "tags": []
          },
          "execution_count": 24
        }
      ]
    },
    {
      "cell_type": "code",
      "metadata": {
        "id": "SzfKshSV8LND",
        "colab_type": "code",
        "colab": {}
      },
      "source": [
        "df = train[train['variety'].isin(varieties)]"
      ],
      "execution_count": 0,
      "outputs": []
    },
    {
      "cell_type": "code",
      "metadata": {
        "id": "qZ4xHtqK8S-B",
        "colab_type": "code",
        "colab": {
          "base_uri": "https://localhost:8080/",
          "height": 545
        },
        "outputId": "0ba97752-3277-4493-8ae4-b3d42791a77d"
      },
      "source": [
        "df.variety.value_counts()"
      ],
      "execution_count": 26,
      "outputs": [
        {
          "output_type": "execute_result",
          "data": {
            "text/plain": [
              "Pinot Noir                    10587\n",
              "Chardonnay                     9403\n",
              "Cabernet Sauvignon             7552\n",
              "Red Blend                      7166\n",
              "Bordeaux-style Red Blend       5497\n",
              "Riesling                       4148\n",
              "Sauvignon Blanc                4011\n",
              "Syrah                          3316\n",
              "Rosé                           2831\n",
              "Merlot                         2471\n",
              "Nebbiolo                       2242\n",
              "Zinfandel                      2209\n",
              "Sangiovese                     2165\n",
              "Malbec                         2119\n",
              "Portuguese Red                 1969\n",
              "White Blend                    1896\n",
              "Sparkling Blend                1739\n",
              "Tempranillo                    1448\n",
              "Rhône-style Red Blend          1182\n",
              "Pinot Gris                     1148\n",
              "Champagne Blend                1133\n",
              "Cabernet Franc                 1095\n",
              "Grüner Veltliner               1055\n",
              "Portuguese White                896\n",
              "Pinot Grigio                    873\n",
              "Bordeaux-style White Blend      850\n",
              "Gewürztraminer                  840\n",
              "Gamay                           816\n",
              "Name: variety, dtype: int64"
            ]
          },
          "metadata": {
            "tags": []
          },
          "execution_count": 26
        }
      ]
    },
    {
      "cell_type": "code",
      "metadata": {
        "id": "NsAemXbq8Vey",
        "colab_type": "code",
        "colab": {}
      },
      "source": [
        "df['variety_code'] = pd.Categorical(df.variety).codes"
      ],
      "execution_count": 0,
      "outputs": []
    },
    {
      "cell_type": "code",
      "metadata": {
        "id": "wJDTBYSz8cL2",
        "colab_type": "code",
        "colab": {
          "base_uri": "https://localhost:8080/",
          "height": 407
        },
        "outputId": "f250d0fc-42e2-4419-b445-f8e7e3cb6b45"
      },
      "source": [
        "df[['variety','variety_code']]"
      ],
      "execution_count": 28,
      "outputs": [
        {
          "output_type": "execute_result",
          "data": {
            "text/html": [
              "<div>\n",
              "<style scoped>\n",
              "    .dataframe tbody tr th:only-of-type {\n",
              "        vertical-align: middle;\n",
              "    }\n",
              "\n",
              "    .dataframe tbody tr th {\n",
              "        vertical-align: top;\n",
              "    }\n",
              "\n",
              "    .dataframe thead th {\n",
              "        text-align: right;\n",
              "    }\n",
              "</style>\n",
              "<table border=\"1\" class=\"dataframe\">\n",
              "  <thead>\n",
              "    <tr style=\"text-align: right;\">\n",
              "      <th></th>\n",
              "      <th>variety</th>\n",
              "      <th>variety_code</th>\n",
              "    </tr>\n",
              "  </thead>\n",
              "  <tbody>\n",
              "    <tr>\n",
              "      <th>0</th>\n",
              "      <td>Chardonnay</td>\n",
              "      <td>5</td>\n",
              "    </tr>\n",
              "    <tr>\n",
              "      <th>1</th>\n",
              "      <td>Red Blend</td>\n",
              "      <td>17</td>\n",
              "    </tr>\n",
              "    <tr>\n",
              "      <th>2</th>\n",
              "      <td>Nebbiolo</td>\n",
              "      <td>11</td>\n",
              "    </tr>\n",
              "    <tr>\n",
              "      <th>3</th>\n",
              "      <td>Bordeaux-style White Blend</td>\n",
              "      <td>1</td>\n",
              "    </tr>\n",
              "    <tr>\n",
              "      <th>4</th>\n",
              "      <td>Malbec</td>\n",
              "      <td>9</td>\n",
              "    </tr>\n",
              "    <tr>\n",
              "      <th>...</th>\n",
              "      <td>...</td>\n",
              "      <td>...</td>\n",
              "    </tr>\n",
              "    <tr>\n",
              "      <th>82652</th>\n",
              "      <td>Tempranillo</td>\n",
              "      <td>25</td>\n",
              "    </tr>\n",
              "    <tr>\n",
              "      <th>82653</th>\n",
              "      <td>Cabernet Sauvignon</td>\n",
              "      <td>3</td>\n",
              "    </tr>\n",
              "    <tr>\n",
              "      <th>82654</th>\n",
              "      <td>Gamay</td>\n",
              "      <td>6</td>\n",
              "    </tr>\n",
              "    <tr>\n",
              "      <th>82655</th>\n",
              "      <td>Bordeaux-style Red Blend</td>\n",
              "      <td>0</td>\n",
              "    </tr>\n",
              "    <tr>\n",
              "      <th>82656</th>\n",
              "      <td>Cabernet Sauvignon</td>\n",
              "      <td>3</td>\n",
              "    </tr>\n",
              "  </tbody>\n",
              "</table>\n",
              "<p>82657 rows × 2 columns</p>\n",
              "</div>"
            ],
            "text/plain": [
              "                          variety  variety_code\n",
              "0                      Chardonnay             5\n",
              "1                       Red Blend            17\n",
              "2                        Nebbiolo            11\n",
              "3      Bordeaux-style White Blend             1\n",
              "4                          Malbec             9\n",
              "...                           ...           ...\n",
              "82652                 Tempranillo            25\n",
              "82653          Cabernet Sauvignon             3\n",
              "82654                       Gamay             6\n",
              "82655    Bordeaux-style Red Blend             0\n",
              "82656          Cabernet Sauvignon             3\n",
              "\n",
              "[82657 rows x 2 columns]"
            ]
          },
          "metadata": {
            "tags": []
          },
          "execution_count": 28
        }
      ]
    },
    {
      "cell_type": "code",
      "metadata": {
        "id": "Xo8mme5l8eqm",
        "colab_type": "code",
        "colab": {}
      },
      "source": [
        "x = df.review_description.values\n",
        "y = df.variety_code.values"
      ],
      "execution_count": 0,
      "outputs": []
    },
    {
      "cell_type": "code",
      "metadata": {
        "id": "TLe9V0rW8hvn",
        "colab_type": "code",
        "colab": {
          "base_uri": "https://localhost:8080/",
          "height": 35
        },
        "outputId": "802642c7-045b-482c-f749-bbfae0e72db4"
      },
      "source": [
        "maxwords = 25000\n",
        "tokenizer = Tokenizer(num_words = maxwords)\n",
        "\n",
        "tokenizer.fit_on_texts(x)\n",
        "x_sequences  = tokenizer.texts_to_sequences(x)\n",
        "maxlen = max(len(x) for x in x_sequences)\n",
        "print(maxlen)\n",
        "x_sequences = sequence.pad_sequences(x_sequences, maxlen)"
      ],
      "execution_count": 30,
      "outputs": [
        {
          "output_type": "stream",
          "text": [
            "136\n"
          ],
          "name": "stdout"
        }
      ]
    },
    {
      "cell_type": "code",
      "metadata": {
        "id": "WKvqZy7i838C",
        "colab_type": "code",
        "colab": {}
      },
      "source": [
        "x_train, x_test, y_train, y_test = train_test_split(x_sequences, y, test_size=0.20, random_state=22)"
      ],
      "execution_count": 0,
      "outputs": []
    },
    {
      "cell_type": "code",
      "metadata": {
        "id": "SQOlvfyh860X",
        "colab_type": "code",
        "colab": {}
      },
      "source": [
        "model = Sequential()\n",
        "model.add(Embedding(input_dim=maxwords,\n",
        "                    output_dim=136))\n",
        "\n",
        "\n",
        "model.add(GlobalAveragePooling1D())\n",
        "model.add(Dropout(0.5))\n",
        "\n",
        "model.add(Dense(100, activation=\"softmax\"))"
      ],
      "execution_count": 0,
      "outputs": []
    },
    {
      "cell_type": "code",
      "metadata": {
        "id": "9v3WcGYl8-4w",
        "colab_type": "code",
        "colab": {}
      },
      "source": [
        "opt = keras.optimizers.Adam(lr=0.01) # speed up optimization\n",
        "model.compile(optimizer=opt, loss=\"sparse_categorical_crossentropy\", metrics=[\"acc\"])"
      ],
      "execution_count": 0,
      "outputs": []
    },
    {
      "cell_type": "code",
      "metadata": {
        "id": "T-JrSB069DMQ",
        "colab_type": "code",
        "colab": {
          "base_uri": "https://localhost:8080/",
          "height": 455
        },
        "outputId": "0f3c87cd-9d43-4cbf-e067-1e4d32fd464e"
      },
      "source": [
        "fit = model.fit(x_train, y_train,\n",
        "            batch_size=512,\n",
        "            epochs=10,\n",
        "            validation_data=(x_test, y_test))"
      ],
      "execution_count": 34,
      "outputs": [
        {
          "output_type": "stream",
          "text": [
            "/usr/local/lib/python3.6/dist-packages/tensorflow/python/framework/indexed_slices.py:434: UserWarning: Converting sparse IndexedSlices to a dense Tensor of unknown shape. This may consume a large amount of memory.\n",
            "  \"Converting sparse IndexedSlices to a dense Tensor of unknown shape. \"\n"
          ],
          "name": "stderr"
        },
        {
          "output_type": "stream",
          "text": [
            "Train on 66125 samples, validate on 16532 samples\n",
            "Epoch 1/10\n",
            "66125/66125 [==============================] - 10s 146us/step - loss: 2.8532 - acc: 0.2281 - val_loss: 2.1416 - val_acc: 0.3905\n",
            "Epoch 2/10\n",
            "66125/66125 [==============================] - 9s 141us/step - loss: 1.8105 - acc: 0.4605 - val_loss: 1.4902 - val_acc: 0.5485\n",
            "Epoch 3/10\n",
            "66125/66125 [==============================] - 9s 142us/step - loss: 1.3657 - acc: 0.5893 - val_loss: 1.2102 - val_acc: 0.6320\n",
            "Epoch 4/10\n",
            "66125/66125 [==============================] - 9s 141us/step - loss: 1.1336 - acc: 0.6564 - val_loss: 1.0762 - val_acc: 0.6715\n",
            "Epoch 5/10\n",
            "66125/66125 [==============================] - 9s 140us/step - loss: 0.9958 - acc: 0.6997 - val_loss: 1.0004 - val_acc: 0.6939\n",
            "Epoch 6/10\n",
            "66125/66125 [==============================] - 9s 141us/step - loss: 0.8949 - acc: 0.7319 - val_loss: 0.9600 - val_acc: 0.7045\n",
            "Epoch 7/10\n",
            "66125/66125 [==============================] - 9s 143us/step - loss: 0.8224 - acc: 0.7535 - val_loss: 0.9375 - val_acc: 0.7095\n",
            "Epoch 8/10\n",
            "66125/66125 [==============================] - 9s 140us/step - loss: 0.7629 - acc: 0.7684 - val_loss: 0.9216 - val_acc: 0.7169\n",
            "Epoch 9/10\n",
            "66125/66125 [==============================] - 9s 139us/step - loss: 0.7090 - acc: 0.7839 - val_loss: 0.9100 - val_acc: 0.7198\n",
            "Epoch 10/10\n",
            "66125/66125 [==============================] - 9s 140us/step - loss: 0.6666 - acc: 0.7976 - val_loss: 0.9260 - val_acc: 0.7153\n"
          ],
          "name": "stdout"
        }
      ]
    },
    {
      "cell_type": "code",
      "metadata": {
        "id": "1Wj_P_or9Fed",
        "colab_type": "code",
        "colab": {
          "base_uri": "https://localhost:8080/",
          "height": 54
        },
        "outputId": "b0843c4e-f1d1-413d-dbb9-7d1de217b31c"
      },
      "source": [
        "print('accuracy', model.evaluate(x_test, y_test)[1])"
      ],
      "execution_count": 35,
      "outputs": [
        {
          "output_type": "stream",
          "text": [
            "16532/16532 [==============================] - 1s 39us/step\n",
            "accuracy 0.7153399586677551\n"
          ],
          "name": "stdout"
        }
      ]
    },
    {
      "cell_type": "code",
      "metadata": {
        "id": "2IRb0KGu9W2E",
        "colab_type": "code",
        "colab": {
          "base_uri": "https://localhost:8080/",
          "height": 54
        },
        "outputId": "061d491d-9fc6-49b8-e3c2-50a9da74012b"
      },
      "source": [
        "print('train accuracy', model.evaluate(x_train, y_train)[1])"
      ],
      "execution_count": 36,
      "outputs": [
        {
          "output_type": "stream",
          "text": [
            "66125/66125 [==============================] - 3s 40us/step\n",
            "train accuracy 0.8366881012916565\n"
          ],
          "name": "stdout"
        }
      ]
    },
    {
      "cell_type": "code",
      "metadata": {
        "id": "Od40njTa9bdK",
        "colab_type": "code",
        "colab": {}
      },
      "source": [
        "y_pred1 = model.predict_classes(x_test)\n",
        "# print(classification_report(y_test, y_pred4))\n",
        "\n",
        "cm = confusion_matrix(y_test, y_pred1) # only works with sparse\n",
        "cm = cm.astype('float') / cm.sum(axis=1)[:, np.newaxis]\n",
        "accuracies = cm.diagonal()"
      ],
      "execution_count": 0,
      "outputs": []
    },
    {
      "cell_type": "code",
      "metadata": {
        "id": "GEyWT7Hj-Y1l",
        "colab_type": "code",
        "colab": {}
      },
      "source": [
        "labels = sorted(lookup.items(), key=lambda x: x[0])\n",
        "labels = [vv[1] for vv in labels]"
      ],
      "execution_count": 0,
      "outputs": []
    },
    {
      "cell_type": "code",
      "metadata": {
        "id": "h5ACaTj3-e7z",
        "colab_type": "code",
        "colab": {
          "base_uri": "https://localhost:8080/",
          "height": 295
        },
        "outputId": "3c6fb79c-91a2-4cd0-d30d-ef05da69c9d5"
      },
      "source": [
        "acc_order = np.argsort(-accuracies) # get index to sort by\n",
        "\n",
        "sns.barplot(y=np.array(labels)[acc_order], x=accuracies[acc_order], color='#d8dcd6')\n",
        "plt.title('Test Accuracy by Variety', fontweight=\"bold\")\n",
        "plt.xlabel('Accuracy')\n",
        "sns.despine()\n",
        "plt.show()"
      ],
      "execution_count": 41,
      "outputs": [
        {
          "output_type": "display_data",
          "data": {
            "image/png": "[encoded data removed]",
            "text/plain": [
              "<Figure size 432x288 with 1 Axes>"
            ]
          },
          "metadata": {
            "tags": []
          }
        }
      ]
    },
    {
      "cell_type": "code",
      "metadata": {
        "id": "2QRx0dP0-hJD",
        "colab_type": "code",
        "colab": {
          "base_uri": "https://localhost:8080/",
          "height": 295
        },
        "outputId": "72cecd88-848b-407f-8269-87d67c275564"
      },
      "source": [
        "plt.hist(accuracies, bins=6, color='navy')\n",
        "plt.title('Test Accuracy by Variety', fontweight=\"bold\")\n",
        "plt.xlabel('Accuracy')\n",
        "sns.despine()\n",
        "plt.show()"
      ],
      "execution_count": 42,
      "outputs": [
        {
          "output_type": "display_data",
          "data": {
            "image/png": "[encoded data removed]",
            "text/plain": [
              "<Figure size 432x288 with 1 Axes>"
            ]
          },
          "metadata": {
            "tags": []
          }
        }
      ]
    },
    {
      "cell_type": "code",
      "metadata": {
        "id": "1eu0HaKc-kJM",
        "colab_type": "code",
        "colab": {}
      },
      "source": [
        "model.save('wine variety.h5')"
      ],
      "execution_count": 0,
      "outputs": []
    },
    {
      "cell_type": "code",
      "metadata": {
        "id": "0KJMo4LV-qdb",
        "colab_type": "code",
        "colab": {}
      },
      "source": [
        ""
      ],
      "execution_count": 0,
      "outputs": []
    }
  ]
}